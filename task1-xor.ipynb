{
 "cells": [
  {
   "cell_type": "markdown",
   "metadata": {},
   "source": [
    "## Columbia University\n",
    "### ECBM E4040 Neural Networks and Deep Learning. Fall 2019."
   ]
  },
  {
   "cell_type": "markdown",
   "metadata": {},
   "source": [
    "# Task 1: XOR"
   ]
  },
  {
   "cell_type": "code",
   "execution_count": 11,
   "metadata": {},
   "outputs": [
    {
     "name": "stdout",
     "output_type": "stream",
     "text": [
      "The autoreload extension is already loaded. To reload it, use:\n",
      "  %reload_ext autoreload\n"
     ]
    }
   ],
   "source": [
    "# Import modules\n",
    "from __future__ import print_function\n",
    "import tensorflow as tf\n",
    "import numpy as np\n",
    "from numpy.random import shuffle\n",
    "import time\n",
    "import matplotlib.pyplot as plt\n",
    "\n",
    "# Plot configurations\n",
    "%matplotlib inline\n",
    "\n",
    "# Notebook auto reloads code. (Ref: http://stackoverflow.com/questions/1907993/autoreload-of-modules-in-ipython)\n",
    "%load_ext autoreload\n",
    "%autoreload 2"
   ]
  },
  {
   "cell_type": "markdown",
   "metadata": {},
   "source": [
    "## Task 1, Part 1: Backpropagation through time (BPTT)"
   ]
  },
  {
   "cell_type": "markdown",
   "metadata": {},
   "source": [
    "**Question:** Consider a simple RNN network shown in the following figure, where _wx, wh, b1, w, b2_ are the scalar parameters of the network. The loss function is the **mean squared error (MSE)**. Given input _(x1, x2) = (-1, 0)_, ground truth _(g1, g2) = (1, 0), h0 = 0, (wx, wh, b1, w, b2) = (2, 1, 1, 2, 1)_, compute _(dwx, dwh, db1, dw, db2)_, which are the gradients of loss with repect to 5 parameters _(wx, wh, b1, w, b2)_.\n",
    "\n",
    "![bptt](./img/bptt2.jpg)"
   ]
  },
  {
   "cell_type": "markdown",
   "metadata": {},
   "source": [
    "<span style=\"color:red\">TODO:</span>\n",
    "\n",
    "Answer the above question. \n",
    "\n",
    "* **[fill in here: \n",
    "**Feedforward:**  \n",
    "$h_1 = \\sigma(w_xx_1 + w_hh_0 + b_1) = 0.2689$  \n",
    "$h_2 = \\sigma(w_xx_2 + w_hh_1 + b_1) = 0.7806$  \n",
    "$y_1 = \\sigma(wh_1 + b_2) = 0.8232$ \n",
    "$y_2 = \\sigma(wh_2 + b_2) = 0.9283$\n",
    "\n",
    "**Backpropagation:**  \n",
    "$$dw = g_1\\frac{\\partial y_1}{\\partial w}+ g_2\\frac{\\partial y_2}{\\partial w} = g_1 \\sigma(wh_1 + b_2)(1-\\sigma(wh_1 + b_2)) h_1+g_2 \\sigma(wh_2 + b_2)(1-\\sigma(wh_2 + b_2)) h_2 = 0.0413$$\n",
    "$$db_2 = g_1\\frac{\\partial y_1}{\\partial b_2}+ g_2\\frac{\\partial y_2}{\\partial b_2} = g_1 \\sigma(wh_1 + b_2)(1-\\sigma(wh_1 + b_2))+g_2 \\sigma(wh_2 + b_2)(1-\\sigma(wh_2 + b_2)) = 0.0360$$\n",
    "$db_1 = g_1\\frac{\\partial y_1}{\\partial h_1}\\frac{\\partial h_1}{\\partial b_1}+ g_2\\frac{\\partial y_2}{\\partial h_2}\\frac{\\partial h_2}{\\partial b_1} = g_1\\sigma(wh_1 + b_2)(1-\\sigma(wh_1 + b_2))w\\sigma(w_xx_1 + w_hh_0 + b_1)(1-\\sigma(w_xx_1 + w_hh_0 + b_1))+g_2 \\sigma(wh_2 + b_2)(1-\\sigma(wh_2 + b_2))w\\sigma(w_xx_2 + w_hh_1 + b_1)(1-\\sigma(w_xx_2 + w_hh_1 + b_1)) = 0.0060$  \n",
    "$dw_x = g_1\\frac{\\partial y_1}{\\partial h_1}\\frac{\\partial h_1}{\\partial w_x}+ g_2\\frac{\\partial y_2}{\\partial h_2}\\frac{\\partial h_2}{\\partial w_x} = g_1\\sigma(wh_1 + b_2) (1-\\sigma(wh_1 + b_2) )w\\sigma(w_xx_1 + w_hh_0 + b_1)(1-\\sigma(w_xx_1 + w_hh_0 + b_1))x_1+g_2 \\sigma(wh_2 + b_2)(1-\\sigma(wh_2 + b_2))w\\sigma(w_xx_2 + w_hh_1 + b_1)(1-\\sigma(w_xx_2 + w_hh_1 + b_1))x_2 = 0.0057$  \n",
    "$dw_h = g_1\\frac{\\partial y_1}{\\partial h_1}\\frac{\\partial h_1}{\\partial w_h}+ g_2\\frac{\\partial y_2}{\\partial h_2}\\frac{\\partial h_2}{\\partial w_h} = g_1\\sigma(wh_1 + b_2)(1-\\sigma(wh_1 + b_2))w\\sigma(w_xx_1 + w_hh_0 + b_1)(1-\\sigma(w_xx_1 + w_hh_0 + b_1))h_0+g_2 \\sigma(wh_2 + b_2)(1-\\sigma(wh_2 + b_2))w\\sigma(w_xx_2 + w_hh_1 + b_1)(1-\\sigma(w_xx_2 + w_hh_1 + b_1))h_1 = 0.0152$  \n",
    "]**\n",
    "* You can use LATEX to edit the equations, and Jupyter notebook can recognize basic LATEX syntax. Alternatively, you can edit equations in some other environment and then paste the screenshot of the equations here."
   ]
  },
  {
   "cell_type": "code",
   "execution_count": 12,
   "metadata": {},
   "outputs": [
    {
     "name": "stdout",
     "output_type": "stream",
     "text": [
      "verify by tensorflow\n",
      "dw = 0.0413, db2 = 0.0360, dwx = 0.0060, dwh = 0.0057, db1 = 0.0152\n"
     ]
    }
   ],
   "source": [
    "# use tensorflow to verify the answer.\n",
    "w = tf.Variable(2.0)\n",
    "b2 = tf.Variable(1.0)\n",
    "wx = tf.Variable(2.0)\n",
    "wh = tf.Variable(1.0)\n",
    "b1 = tf.Variable(1.0)\n",
    "\n",
    "h0 = tf.Variable(0.0)\n",
    "x = tf.placeholder(tf.float32, shape=(2,))\n",
    "g = tf.placeholder(tf.float32, shape=(2,))\n",
    "\n",
    "y = []\n",
    "h1 = tf.sigmoid(wx*x[0] + wh*h0 + b1)\n",
    "y.append(tf.sigmoid(w*h1 + b2))\n",
    "h2 = tf.sigmoid(wx*x[1] + wh*h1 + b1)\n",
    "y.append(tf.sigmoid(w*h2 + b2))\n",
    "\n",
    "loss = 0.5*(tf.square(g[0]-y[0]) + tf.square(g[1]-y[1]))\n",
    "\n",
    "dw, db2, dwx, dwh, db1 = tf.gradients(loss, [w, b2, wx, wh, b1])\n",
    "\n",
    "with tf.Session() as sess:\n",
    "    sess.run(tf.global_variables_initializer())\n",
    "    dw_t, db2_t, dwx_t, dwh_t, db1_t = sess.run([dw, db2, dwx, dwh, db1],\n",
    "                                              feed_dict={x: np.asarray([-1.0,0.0]), g: np.asarray([1.0,0.0])})\n",
    "print(\"verify by tensorflow\")\n",
    "print(\"dw = {:.4f}, db2 = {:.4f}, dwx = {:.4f}, dwh = {:.4f}, db1 = {:.4f}\".format(dw_t, db2_t, dwx_t, dwh_t, db1_t))"
   ]
  },
  {
   "cell_type": "markdown",
   "metadata": {},
   "source": [
    "## Task 1, Part 2: Use tensorflow modules to create XOR network\n",
    "\n",
    "In this part, you need to build and train an XOR network that can learn the XOR function. It is a very simple implementation of RNN and will give you an idea how RNN is built and how to train it."
   ]
  },
  {
   "cell_type": "markdown",
   "metadata": {},
   "source": [
    "### XOR network\n",
    "\n",
    "XOR network can learn the XOR $\\oplus$ function\n",
    "\n",
    "As shown in the figure below, and for instance, if input $(x0, x1, x2)$=(1,0,0), then output $(y1, y2, y3)$=(1,1,1). That is, $y_n = x_0\\oplus x_1 \\oplus ... \\oplus x_{n-1}$\n",
    "\n",
    "![xor_net](./img/xor.png)"
   ]
  },
  {
   "cell_type": "markdown",
   "metadata": {},
   "source": [
    "### Create data set\n",
    "This function provides you the way to generate the data which is required for the training process. You should utilize it when building your training function for the GRU. Please read the source code for more information."
   ]
  },
  {
   "cell_type": "code",
   "execution_count": 13,
   "metadata": {},
   "outputs": [],
   "source": [
    "from utils.xor.dataset import create_dataset"
   ]
  },
  {
   "cell_type": "markdown",
   "metadata": {},
   "source": [
    "### (Demo) Build a network using a Tensorlow LSTMCell and GRUCell\n",
    "This section shows an example how to build a RNN network using an LSTM cell or GRU cell. Both LSTM and GRU cell are inbuilt classes in tensorflow which separately implement the real behavior of the LSTM and GRU neuron. \n",
    "\n",
    "Reference: \n",
    "1. [TensorFlow LSTM cell](https://www.tensorflow.org/api_docs/python/tf/nn/rnn_cell/LSTMCell)\n",
    "1. [TensorFlow GRU cell](https://www.tensorflow.org/api_docs/python/tf/nn/rnn_cell/GRUCell)\n",
    "2. [Understanding GRU networks](https://towardsdatascience.com/understanding-gru-networks-2ef37df6c9be)"
   ]
  },
  {
   "cell_type": "markdown",
   "metadata": {},
   "source": [
    "#### LSTM"
   ]
  },
  {
   "cell_type": "code",
   "execution_count": 14,
   "metadata": {},
   "outputs": [],
   "source": [
    "from tensorflow.contrib.rnn import LSTMCell\n",
    "\n",
    "# define LSTM cell\n",
    "lstm_units = 64\n",
    "cell = LSTMCell(lstm_units,num_proj=2,state_is_tuple=True)\n",
    "\n",
    "\n",
    "tf.reset_default_graph()\n",
    "\n",
    "# Input shape: (num_samples, seq_length, input_dimension)\n",
    "# Output shape: (num_samples, output_ground_truth), and output_ground_truth is 0/1.\n",
    "input_data = tf.placeholder(tf.float32, shape=[None,None,1])\n",
    "output_data = tf.placeholder(tf.int64, shape=[None,None])\n",
    "\n",
    "# create LSTM network: you can also choose other modules provided by tensorflow, like static_rnn etc.\n",
    "hidden, _ = tf.nn.dynamic_rnn(cell, input_data, dtype=tf.float32)\n",
    "\n",
    "# generate output from the hidden information\n",
    "output_shape = 2\n",
    "out = tf.layers.dense(hidden, output_shape)\n",
    "pred = tf.argmax(out, axis=2)\n",
    "\n",
    "# loss function\n",
    "loss = tf.reduce_mean(tf.nn.sparse_softmax_cross_entropy_with_logits(labels=output_data,logits=out))\n",
    "\n",
    "# optimization\n",
    "optimizer = tf.train.AdamOptimizer(learning_rate=0.1).minimize(loss)\n",
    "\n",
    "# accuracy\n",
    "correct_num = tf.equal(output_data,pred)\n",
    "accuracy = tf.reduce_mean(tf.cast(correct_num,tf.float32))"
   ]
  },
  {
   "cell_type": "markdown",
   "metadata": {},
   "source": [
    "#### GRU"
   ]
  },
  {
   "cell_type": "code",
   "execution_count": 15,
   "metadata": {},
   "outputs": [],
   "source": [
    "from tensorflow.contrib.rnn import GRUCell\n",
    "\n",
    "# define GRU cell\n",
    "gru_units = 64\n",
    "cell = GRUCell(gru_units)\n",
    "\n",
    "\n",
    "tf.reset_default_graph()\n",
    "\n",
    "# Input shape: (num_samples, seq_length, input_dimension)\n",
    "# Output shape: (num_samples, output_ground_truth), and output_ground_truth is 0/1.\n",
    "input_data = tf.placeholder(tf.float32, shape=[None,None,1])\n",
    "output_data = tf.placeholder(tf.int64, shape=[None,None])\n",
    "\n",
    "# create GRU network: you can also choose other modules provided by tensorflow, like static_rnn etc.\n",
    "hidden, _ = tf.nn.dynamic_rnn(cell, input_data, dtype=tf.float32)\n",
    "\n",
    "# generate output from the hidden information\n",
    "output_shape = 2\n",
    "out = tf.layers.dense(hidden, output_shape)\n",
    "pred = tf.argmax(out, axis=2)\n",
    "\n",
    "# loss function\n",
    "loss = tf.reduce_mean(tf.nn.sparse_softmax_cross_entropy_with_logits(labels=output_data,logits=out))\n",
    "\n",
    "# optimization\n",
    "optimizer = tf.train.AdamOptimizer(learning_rate=0.1).minimize(loss)\n",
    "\n",
    "# accuracy\n",
    "correct_num = tf.equal(output_data,pred)\n",
    "accuracy = tf.reduce_mean(tf.cast(correct_num,tf.float32))"
   ]
  },
  {
   "cell_type": "markdown",
   "metadata": {},
   "source": [
    "### Training \n",
    "\n",
    "<span style='color:red'>TODO:</span> \n",
    "1. Build your training function for RNN (choose either LSTM or GRU); \n",
    "2. Plot the cost during the training"
   ]
  },
  {
   "cell_type": "code",
   "execution_count": 16,
   "metadata": {},
   "outputs": [
    {
     "name": "stdout",
     "output_type": "stream",
     "text": [
      "loss: 0.6927433609962463 training accuracy : 59.03416872024536%\n",
      "loss: 0.6979199647903442 training accuracy : 50.12999773025513%\n",
      "loss: 0.6943346261978149 training accuracy : 50.304168462753296%\n",
      "loss: 0.6762685179710388 training accuracy : 55.50583600997925%\n",
      "loss: 0.5120086669921875 training accuracy : 81.07583522796631%\n",
      "loss: 0.023221690207719803 training accuracy : 99.857497215271%\n",
      "loss: 0.0060655963607132435 training accuracy : 99.98916387557983%\n",
      "loss: 0.0022514881566166878 training accuracy : 100.0%\n",
      "loss: 0.000769636535551399 training accuracy : 100.0%\n",
      "loss: 0.0004718329000752419 training accuracy : 100.0%\n"
     ]
    }
   ],
   "source": [
    "# TODO: training\n",
    "from matplotlib import pyplot as plt\n",
    "X_train,y_train = create_dataset(10000,12)\n",
    "\n",
    "los = np.zeros(10)\n",
    "\n",
    "with tf.Session() as sess:\n",
    "    sess.run(tf.global_variables_initializer())\n",
    "    \n",
    "    for itr in range(100):\n",
    "        _,accur,lost= sess.run([optimizer,accuracy, loss], feed_dict={input_data: X_train,\n",
    "                                                                output_data: y_train})\n",
    "        if itr%10==0:\n",
    "            los[int(itr/10)] =lost\n",
    "            print(\"loss: {} training accuracy : {}%\".format(lost,accur*100))\n",
    "\n",
    "sess.close()"
   ]
  },
  {
   "cell_type": "code",
   "execution_count": 17,
   "metadata": {},
   "outputs": [
    {
     "data": {
      "image/png": "[encoded data removed]",
      "text/plain": [
       "<Figure size 432x288 with 1 Axes>"
      ]
     },
     "metadata": {
      "needs_background": "light"
     },
     "output_type": "display_data"
    }
   ],
   "source": [
    "# TODO: plot loss history\n",
    "plt.plot(range(10),los)\n",
    "plt.ylabel('Loss during training')\n",
    "plt.xlabel('#Iterations')\n",
    "plt.show()"
   ]
  },
  {
   "cell_type": "markdown",
   "metadata": {
    "collapsed": true
   },
   "source": [
    "## Task 1, Part 3 :  Build your own LSTMCell\n",
    "In this part, you need to build your own LSTM cell to achieve the LSTM functionality. \n",
    "\n",
    "<span style=\"color:red\">TODO:</span> \n",
    "1. Finish class **MyLSTMCell** in utils/xor/rnn.py;\n",
    "2. Write the training function for your RNN;\n",
    "3. Plot the cost during training."
   ]
  },
  {
   "cell_type": "code",
   "execution_count": 84,
   "metadata": {},
   "outputs": [],
   "source": [
    "from utils.xor.rnn import MyLSTMCell"
   ]
  },
  {
   "cell_type": "code",
   "execution_count": 85,
   "metadata": {},
   "outputs": [],
   "source": [
    "# recreate xor netowrk with your own LSTM cell\n",
    "tf.reset_default_graph()\n",
    "\n",
    "#Input shape: (num_samples,seq_length,input_dimension)\n",
    "#Output shape: (num_samples, output_ground_truth), and output_ground_truth is 0/1. \n",
    "input_data = tf.placeholder(tf.float32,shape=[None,None,1])\n",
    "output_data = tf.placeholder(tf.int64,shape=[None,None])\n",
    "\n",
    "# recreate xor netowrk with your own LSTM cell\n",
    "lstm_units = 64\n",
    "cell = MyLSTMCell(lstm_units,num_proj=2)\n",
    "\n",
    "# create GRU network: you can also choose other modules provided by tensorflow, like static_rnn etc.\n",
    "hidden, _ = tf.nn.dynamic_rnn(cell,input_data,dtype=tf.float32)\n",
    "\n",
    "# generate output from the hidden information\n",
    "output_shape = 2\n",
    "out = tf.layers.dense(hidden, output_shape)\n",
    "pred = tf.argmax(out,axis=2)\n",
    "\n",
    "# loss function\n",
    "loss = tf.reduce_mean(tf.nn.sparse_softmax_cross_entropy_with_logits(labels=output_data,logits=out))\n",
    "# optimization\n",
    "optimizer = tf.train.AdamOptimizer(learning_rate=0.1).minimize(loss)\n",
    "# accuracy\n",
    "correct = tf.equal(output_data,pred)\n",
    "accuracy = tf.reduce_mean(tf.cast(correct,tf.float32))"
   ]
  },
  {
   "cell_type": "markdown",
   "metadata": {},
   "source": [
    "### Training"
   ]
  },
  {
   "cell_type": "code",
   "execution_count": 88,
   "metadata": {},
   "outputs": [
    {
     "name": "stdout",
     "output_type": "stream",
     "text": [
      "loss: 0.713576078414917 training accuracy : 49.79499876499176%\n",
      "loss: 0.7300189733505249 training accuracy : 49.87500011920929%\n",
      "loss: 0.6649295091629028 training accuracy : 55.648332834243774%\n",
      "loss: 0.6396694779396057 training accuracy : 53.8308322429657%\n",
      "loss: 0.6294136047363281 training accuracy : 55.94249963760376%\n",
      "loss: 0.6114687323570251 training accuracy : 61.07416749000549%\n",
      "loss: 0.48837026953697205 training accuracy : 82.35750198364258%\n",
      "loss: 0.5167834758758545 training accuracy : 78.3466637134552%\n",
      "loss: 0.03617230802774429 training accuracy : 99.6583342552185%\n",
      "loss: 0.004988550674170256 training accuracy : 100.0%\n",
      "loss: 0.0019366374472156167 training accuracy : 100.0%\n",
      "loss: 0.0010119264479726553 training accuracy : 100.0%\n",
      "loss: 0.0007528034038841724 training accuracy : 100.0%\n",
      "loss: 0.0006370222545228899 training accuracy : 100.0%\n",
      "loss: 0.000569162773899734 training accuracy : 100.0%\n",
      "loss: 0.0005207969225011766 training accuracy : 100.0%\n",
      "loss: 0.0004822749178856611 training accuracy : 100.0%\n",
      "loss: 0.0004497870977502316 training accuracy : 100.0%\n",
      "loss: 0.0004215020453557372 training accuracy : 100.0%\n",
      "loss: 0.0003963876806665212 training accuracy : 100.0%\n"
     ]
    },
    {
     "data": {
      "image/png": "[encoded data removed]",
      "text/plain": [
       "<Figure size 432x288 with 1 Axes>"
      ]
     },
     "metadata": {
      "needs_background": "light"
     },
     "output_type": "display_data"
    }
   ],
   "source": [
    "# TODO: plot loss history\n",
    "los = np.zeros(int(20))\n",
    "\n",
    "with tf.Session() as sess:\n",
    "    sess.run(tf.global_variables_initializer())\n",
    "    \n",
    "    for itr in range(200):\n",
    "        _,accur,lost = sess.run([optimizer,accuracy, loss], feed_dict={input_data: X_train,\n",
    "                                                                output_data: y_train})\n",
    "        if itr%10==0:\n",
    "            los[int(itr/10)]=lost\n",
    "            print(\"loss: {} training accuracy : {}%\".format(lost,accur*100))\n",
    "\n",
    "sess.close()\n",
    "plt.plot(range(20),los)\n",
    "plt.ylabel('Loss during training')\n",
    "plt.xlabel('#Iterations')\n",
    "plt.show()"
   ]
  },
  {
   "cell_type": "code",
   "execution_count": 83,
   "metadata": {},
   "outputs": [],
   "source": [
    "# TODO: training"
   ]
  },
  {
   "cell_type": "code",
   "execution_count": null,
   "metadata": {},
   "outputs": [],
   "source": []
  }
 ],
 "metadata": {
  "kernelspec": {
   "display_name": "Python 3",
   "language": "python",
   "name": "python3"
  },
  "language_info": {
   "codemirror_mode": {
    "name": "ipython",
    "version": 3
   },
   "file_extension": ".py",
   "mimetype": "text/x-python",
   "name": "python",
   "nbconvert_exporter": "python",
   "pygments_lexer": "ipython3",
   "version": "3.7.5"
  }
 },
 "nbformat": 4,
 "nbformat_minor": 2
}
