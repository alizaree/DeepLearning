{
 "cells": [
  {
   "cell_type": "markdown",
   "metadata": {},
   "source": [
    "## Columbia University\n",
    "### ECBM E4040 Neural Networks and Deep Learning. Fall 2019."
   ]
  },
  {
   "cell_type": "markdown",
   "metadata": {},
   "source": [
    "# Assignment 3\n",
    "\n",
    "In this assignment, you will experiment with recurrent neural network(RNN).\n",
    "\n",
    "### Task 1: XOR net (40%)\n",
    "\n",
    "Create a RNN network which can correctly compute the XOR operation.\n",
    "\n",
    "### Task 2: RNN Application - Neural Machine Translation (60%)\n",
    "\n",
    "Create an encoder and decoder using a RNN cell, for translation from French to English.\n"
   ]
  },
  {
   "cell_type": "markdown",
   "metadata": {
    "collapsed": true
   },
   "source": [
    "### Submission requirements\n",
    "\n",
    "1. Save code and results in .py and .ipynb.\n",
    "2. Please keep the /data folder and /checkpoints folder in your submission for us to check your result.\n",
    "3. also upload the params_gru.pickle and params_lstm.pickle file\n",
    "4. Follow other naming instructions on Github Classroom and/or Courseworks\n"
   ]
  },
  {
   "cell_type": "code",
   "execution_count": null,
   "metadata": {},
   "outputs": [],
   "source": []
  }
 ],
 "metadata": {
  "anaconda-cloud": {},
  "kernelspec": {
   "display_name": "Python 3",
   "language": "python",
   "name": "python3"
  },
  "language_info": {
   "codemirror_mode": {
    "name": "ipython",
    "version": 3
   },
   "file_extension": ".py",
   "mimetype": "text/x-python",
   "name": "python",
   "nbconvert_exporter": "python",
   "pygments_lexer": "ipython3",
   "version": "3.7.5"
  }
 },
 "nbformat": 4,
 "nbformat_minor": 2
}
